{
 "cells": [
  {
   "cell_type": "code",
   "execution_count": null,
   "metadata": {
    "collapsed": true
   },
   "outputs": [],
   "source": [
    "import random\n",
    "\n",
    "import pandas as pd\n",
    "\n",
    "from jsontodf import *\n",
    "from scipy import stats\n",
    "import seaborn as sns"
   ]
  },
  {
   "cell_type": "markdown",
   "source": [
    "## Data exploration and analysis\n",
    "This notebook aims to test some basic aspects of the data as well as test the pipeline parsing to ``Dataframe``. First, a few sanity checks:"
   ],
   "metadata": {
    "collapsed": false
   }
  },
  {
   "cell_type": "code",
   "execution_count": null,
   "outputs": [],
   "source": [
    "test_emissions_df, test_no_emissions_df = jsontodf(\"../json_data/json_misc/compressed_test_json.json\", two_returns=True)"
   ],
   "metadata": {
    "collapsed": false
   }
  },
  {
   "cell_type": "code",
   "execution_count": null,
   "outputs": [],
   "source": [
    "test_emissions_df"
   ],
   "metadata": {
    "collapsed": false
   }
  },
  {
   "cell_type": "code",
   "execution_count": null,
   "outputs": [],
   "source": [
    "test_no_emissions_df"
   ],
   "metadata": {
    "collapsed": false
   }
  },
  {
   "cell_type": "code",
   "execution_count": null,
   "outputs": [],
   "source": [
    "test_events_df = jsontodf(\"../json_data/json_misc/compressed_test_json.json\", two_returns=False)"
   ],
   "metadata": {
    "collapsed": false
   }
  },
  {
   "cell_type": "code",
   "execution_count": null,
   "outputs": [],
   "source": [
    "test_events_df"
   ],
   "metadata": {
    "collapsed": false
   }
  },
  {
   "cell_type": "markdown",
   "source": [
    "### Time for the real deal\n",
    "Now let's study a few aspects of one of the given data describing interactions in the lung!"
   ],
   "metadata": {
    "collapsed": false
   }
  },
  {
   "cell_type": "code",
   "execution_count": null,
   "outputs": [],
   "source": [
    "%%time\n",
    "lung_df = pd.read_pickle(\"../pickled_data/lung_dataset.pkl\")"
   ],
   "metadata": {
    "collapsed": false
   }
  },
  {
   "cell_type": "code",
   "execution_count": null,
   "outputs": [],
   "source": [
    "lung_df.head(50)"
   ],
   "metadata": {
    "collapsed": false
   }
  },
  {
   "cell_type": "markdown",
   "source": [
    "We first divert our attention the distribution of emissions."
   ],
   "metadata": {
    "collapsed": false
   }
  },
  {
   "cell_type": "code",
   "execution_count": null,
   "outputs": [],
   "source": [
    "lung_total = len(lung_df)"
   ],
   "metadata": {
    "collapsed": false
   }
  },
  {
   "cell_type": "code",
   "execution_count": null,
   "outputs": [],
   "source": [
    "emissions_total = len(lung_df[lung_df[\"emission\"] == 1])"
   ],
   "metadata": {
    "collapsed": false
   }
  },
  {
   "cell_type": "code",
   "execution_count": null,
   "outputs": [],
   "source": [
    "p_emission = emissions_total/lung_total\n",
    "print(f\"Probability of an emission is {p_emission}.\")"
   ],
   "metadata": {
    "collapsed": false
   }
  },
  {
   "cell_type": "markdown",
   "source": [
    "Is there a correlation between incoming particle parameters and the presence (or not) of an emission?"
   ],
   "metadata": {
    "collapsed": false
   }
  },
  {
   "cell_type": "code",
   "execution_count": null,
   "outputs": [],
   "source": [
    "stats.spearmanr(lung_df[\"en_p\"], lung_df[\"emission\"])"
   ],
   "metadata": {
    "collapsed": false
   }
  },
  {
   "cell_type": "code",
   "execution_count": null,
   "outputs": [],
   "source": [
    "stats.spearmanr(lung_df[\"dist_p\"], lung_df[\"emission\"])"
   ],
   "metadata": {
    "collapsed": false
   }
  },
  {
   "cell_type": "markdown",
   "source": [
    "Notice the extremely small p-values (0 in fact), thanks to the size of our dataset. Thus we can extremely confidently reject the hypothesis that incoming energy and travelled distance are uncorrelated from emission - which makes sense."
   ],
   "metadata": {
    "collapsed": false
   }
  },
  {
   "cell_type": "markdown",
   "source": [
    "Now for the correlations with the outputs:"
   ],
   "metadata": {
    "collapsed": false
   }
  },
  {
   "cell_type": "code",
   "execution_count": null,
   "outputs": [],
   "source": [
    "stats.spearmanr(lung_df[\"de_p\"], lung_df[\"emission\"])"
   ],
   "metadata": {
    "collapsed": false
   }
  },
  {
   "cell_type": "code",
   "execution_count": null,
   "outputs": [],
   "source": [
    "stats.spearmanr(lung_df[\"cos_p\"], lung_df[\"emission\"])"
   ],
   "metadata": {
    "collapsed": false
   }
  },
  {
   "cell_type": "markdown",
   "source": [
    "Here again, no surprises that the fact an emission happened has major impact on the energy delta and the rotation of the incoming particle."
   ],
   "metadata": {
    "collapsed": false
   }
  },
  {
   "cell_type": "markdown",
   "source": [
    "Let's have a look at a few other basic distributions."
   ],
   "metadata": {
    "collapsed": false
   }
  },
  {
   "cell_type": "code",
   "execution_count": null,
   "outputs": [],
   "source": [
    "sns.histplot(lung_df[\"en_p\"].apply(np.log)).set(title=\"Distribution of parent particle energy in lung\");"
   ],
   "metadata": {
    "collapsed": false
   }
  },
  {
   "cell_type": "code",
   "execution_count": null,
   "outputs": [],
   "source": [
    "sns.histplot(lung_df[\"dist_p\"]).set(title=\"Distribution of distance covered by particle before event in lung\");"
   ],
   "metadata": {
    "collapsed": false
   }
  },
  {
   "cell_type": "markdown",
   "source": [
    "The spike at $1000$ corresponds to the step limit, i.e to the max distance a particle can cover in a step."
   ],
   "metadata": {
    "collapsed": false
   }
  },
  {
   "cell_type": "code",
   "execution_count": null,
   "outputs": [],
   "source": [
    "step_limit_df = lung_df[lung_df['dist_p'] == lung_df['dist_p'].max()]"
   ],
   "metadata": {
    "collapsed": false
   }
  },
  {
   "cell_type": "code",
   "execution_count": null,
   "outputs": [],
   "source": [
    "step_limit_count = len(step_limit_df)\n",
    "p_step_limit = step_limit_count/lung_total\n",
    "print(f\"Probability of reaching the step limit: {p_step_limit}\")"
   ],
   "metadata": {
    "collapsed": false
   }
  },
  {
   "cell_type": "code",
   "execution_count": null,
   "outputs": [],
   "source": [
    "emissions_when_step_limit = len(step_limit_df[step_limit_df[\"emission\"] == 1])\n",
    "p_emission_cond_step_limit = emissions_when_step_limit/step_limit_count\n",
    "print(f\"Probability of emission when reaching step limit (i.e P(emission | step_limit reached)): {p_emission_cond_step_limit}\")"
   ],
   "metadata": {
    "collapsed": false
   }
  },
  {
   "cell_type": "markdown",
   "source": [
    "Let's understand whether the distance covered follows a power law or an exponential distribution, by looking at the plot in log-log:"
   ],
   "metadata": {
    "collapsed": false
   }
  },
  {
   "cell_type": "code",
   "execution_count": null,
   "outputs": [],
   "source": [
    "sns.ecdfplot(lung_df[\"dist_p\"], log_scale=(True,True)).set(title=\"ECDF of distance covered by particle before event in lung - log-log\");"
   ],
   "metadata": {
    "collapsed": false
   }
  },
  {
   "cell_type": "markdown",
   "source": [
    "Data looks quite linear on a log-log, indicating a possible exponential distribution. Let's test that:"
   ],
   "metadata": {
    "collapsed": false
   }
  },
  {
   "cell_type": "code",
   "execution_count": null,
   "outputs": [],
   "source": [
    "stats.kstest(lung_df['dist_p'], \"expon\")"
   ],
   "metadata": {
    "collapsed": false
   }
  },
  {
   "cell_type": "markdown",
   "source": [
    "Test says ``dist_p`` is not exponentially distributed, interestingly. Could that be because of the lack of accuracy for small distances? (smaller than $10^{-2}$)"
   ],
   "metadata": {
    "collapsed": false
   }
  },
  {
   "cell_type": "code",
   "execution_count": null,
   "outputs": [],
   "source": [
    "stats.kstest(lung_df[lung_df['dist_p'] > 0.01]['dist_p'], \"expon\")"
   ],
   "metadata": {
    "collapsed": false
   }
  },
  {
   "cell_type": "markdown",
   "source": [
    "Looks like the hypothesis of an exponential distribution is to be rejected, and that the distance covered actually follows a power law."
   ],
   "metadata": {
    "collapsed": false
   }
  },
  {
   "cell_type": "markdown",
   "source": [
    "Checking whether initial energy and distance travelled are correlated:"
   ],
   "metadata": {
    "collapsed": false
   }
  },
  {
   "cell_type": "code",
   "execution_count": null,
   "outputs": [],
   "source": [
    "stats.spearmanr(lung_df['dist_p'], lung_df['en_p'])"
   ],
   "metadata": {
    "collapsed": false
   }
  },
  {
   "cell_type": "markdown",
   "source": [
    "They definitely are but not much. What about the emission indicator?"
   ],
   "metadata": {
    "collapsed": false
   }
  },
  {
   "cell_type": "code",
   "execution_count": null,
   "outputs": [],
   "source": [
    "stats.spearmanr(lung_df['dist_p'], lung_df['emission'])"
   ],
   "metadata": {
    "collapsed": false
   }
  },
  {
   "cell_type": "code",
   "execution_count": null,
   "outputs": [],
   "source": [
    "for i in [0.1, 0.2, 0.3, 0.5, 1.0, 2.0, 3.0, 5.0, 10.0, 20.0]:\n",
    "    p = len(lung_df[(lung_df['en_p'] == i) & (lung_df['emission'] == 1)])/len(lung_df[(lung_df['en_p'] == i)])\n",
    "    print(f\"For energy {i}, proba of emission: {p}\")"
   ],
   "metadata": {
    "collapsed": false
   }
  },
  {
   "cell_type": "code",
   "execution_count": null,
   "outputs": [],
   "source": [
    "stats.spearmanr(lung_df['en_p'], lung_df['emission'])"
   ],
   "metadata": {
    "collapsed": false
   }
  },
  {
   "cell_type": "markdown",
   "source": [
    "Now, let's look at the particle rotation:"
   ],
   "metadata": {
    "collapsed": false
   }
  },
  {
   "cell_type": "code",
   "execution_count": null,
   "outputs": [],
   "source": [
    "sns.displot(lung_df['cos_p']).set(title=\"Distribution of particle rotation in lung\");"
   ],
   "metadata": {
    "collapsed": false
   }
  },
  {
   "cell_type": "markdown",
   "source": [
    "Rotation seems roughly centered at $0$ degrees, with an additive delta at $0$ maybe due to particles that do not emit any other ones? Let's check that:"
   ],
   "metadata": {
    "collapsed": false
   }
  },
  {
   "cell_type": "code",
   "execution_count": null,
   "outputs": [],
   "source": [
    "sns.displot(lung_df[lung_df['emission'] == 1]['cos_p']).set(title=\"Distribution of particle rotation in lung, conditioned on emission\");"
   ],
   "metadata": {
    "collapsed": false
   }
  },
  {
   "cell_type": "markdown",
   "source": [
    "Don't forget looking at the y-axis. Indeed the spike at $0$ degree rotation has diminished, although not by that much. Let's quickly check that particles that do not emit a new one are not rotated much:"
   ],
   "metadata": {
    "collapsed": false
   }
  },
  {
   "cell_type": "code",
   "execution_count": null,
   "outputs": [],
   "source": [
    "sns.histplot(lung_df[lung_df['emission'] == 0]['cos_p'], bins=400, log_scale=(False, True)).set(title=\"Distribution of particle rotation, conditioned on no emission\");"
   ],
   "metadata": {
    "collapsed": false
   }
  },
  {
   "cell_type": "code",
   "execution_count": null,
   "outputs": [],
   "source": [
    "lung_df_no_emissions = lung_df[lung_df[\"emission\"] == 0]"
   ],
   "metadata": {
    "collapsed": false
   }
  },
  {
   "cell_type": "code",
   "execution_count": null,
   "outputs": [],
   "source": [
    "len(lung_df_no_emissions[lung_df_no_emissions[\"cos_p\"] > 0.98])/len(lung_df_no_emissions)"
   ],
   "metadata": {
    "collapsed": false
   }
  },
  {
   "cell_type": "code",
   "execution_count": null,
   "outputs": [],
   "source": [
    "sns.histplot(lung_df_no_emissions[\"de_p\"])"
   ],
   "metadata": {
    "collapsed": false
   }
  },
  {
   "cell_type": "code",
   "execution_count": null,
   "outputs": [],
   "source": [
    "stats.spearmanr(lung_df_no_emissions[\"cos_p\"], lung_df_no_emissions[\"dist_p\"])"
   ],
   "metadata": {
    "collapsed": false
   }
  },
  {
   "cell_type": "code",
   "execution_count": null,
   "outputs": [],
   "source": [
    "sns.histplot(lung_df_no_emissions[\"dist_p\"], log_scale=(False, True));"
   ],
   "metadata": {
    "collapsed": false
   }
  },
  {
   "cell_type": "code",
   "execution_count": null,
   "outputs": [],
   "source": [
    "stats.spearmanr(lung_df_no_emissions[\"cos_p\"], lung_df_no_emissions[\"en_p\"])"
   ],
   "metadata": {
    "collapsed": false
   }
  },
  {
   "cell_type": "code",
   "execution_count": null,
   "outputs": [],
   "source": [
    "lung_df_emissions = lung_df[lung_df[\"emission\"] == 1]"
   ],
   "metadata": {
    "collapsed": false
   }
  },
  {
   "cell_type": "code",
   "execution_count": null,
   "outputs": [],
   "source": [
    "stats.spearmanr(lung_df_emissions[\"cos_p\"], lung_df_emissions[\"dist_p\"])"
   ],
   "metadata": {
    "collapsed": false
   }
  },
  {
   "cell_type": "code",
   "execution_count": null,
   "outputs": [],
   "source": [
    "sns.histplot(lung_df_emissions[\"dist_p\"]);"
   ],
   "metadata": {
    "collapsed": false
   }
  },
  {
   "cell_type": "markdown",
   "source": [
    "Now, we do similar tests for the water dataset just to check that things aren't crazily different:"
   ],
   "metadata": {
    "collapsed": false
   }
  },
  {
   "cell_type": "code",
   "execution_count": null,
   "outputs": [],
   "source": [
    "water_df = pd.read_pickle(\"../pickled_data/water_dataset.pkl\")\n",
    "water_df.head(40)"
   ],
   "metadata": {
    "collapsed": false
   }
  },
  {
   "cell_type": "code",
   "execution_count": null,
   "outputs": [],
   "source": [
    "len(water_df)"
   ],
   "metadata": {
    "collapsed": false
   }
  },
  {
   "cell_type": "code",
   "execution_count": null,
   "outputs": [],
   "source": [
    "sns.histplot(lung_df[\"en_p\"]).set(title=\"Distribution of parent particle energy in water\");"
   ],
   "metadata": {
    "collapsed": false
   }
  },
  {
   "cell_type": "markdown",
   "source": [
    "Nothing changed much there."
   ],
   "metadata": {
    "collapsed": false
   }
  },
  {
   "cell_type": "code",
   "execution_count": null,
   "outputs": [],
   "source": [
    "sns.histplot(water_df[\"dist_p\"]).set(title=\"Distribution of distance covered by particle in water\");"
   ],
   "metadata": {
    "collapsed": false
   }
  },
  {
   "cell_type": "markdown",
   "source": [
    "Interestingly, much less particles reach the step limit."
   ],
   "metadata": {
    "collapsed": false
   }
  },
  {
   "cell_type": "code",
   "execution_count": null,
   "outputs": [],
   "source": [
    "step_limit_df = water_df[water_df['dist_p'] == water_df['dist_p'].max()]"
   ],
   "metadata": {
    "collapsed": false
   }
  },
  {
   "cell_type": "code",
   "execution_count": null,
   "outputs": [],
   "source": [
    "step_limit_count = len(step_limit_df)\n",
    "p_step_limit = step_limit_count/len(water_df)\n",
    "print(f\"Probability of reaching the step limit: {p_step_limit}\")"
   ],
   "metadata": {
    "collapsed": false
   }
  },
  {
   "cell_type": "markdown",
   "source": [
    "Can this have anything do with the probability of emission?"
   ],
   "metadata": {
    "collapsed": false
   }
  },
  {
   "cell_type": "code",
   "execution_count": null,
   "outputs": [],
   "source": [
    "emission_count = len(water_df[water_df[\"emission\"] == 1])\n",
    "p_emission = emission_count/len(water_df)\n",
    "print(f\"Probability of emission: {p_emission}\")"
   ],
   "metadata": {
    "collapsed": false
   }
  },
  {
   "cell_type": "markdown",
   "source": [
    "In this indeed much higher than in the lung. Lastly, for the correlation between energy and distance, which was noticeably low for the lungs:"
   ],
   "metadata": {
    "collapsed": false
   }
  },
  {
   "cell_type": "code",
   "execution_count": null,
   "outputs": [],
   "source": [
    "stats.spearmanr(water_df['dist_p'], water_df['en_p'])"
   ],
   "metadata": {
    "collapsed": false
   }
  },
  {
   "cell_type": "markdown",
   "source": [
    "It's a bit higher here. We expect quite different models, although a very similar ML system architecture can still be used for both datasets."
   ],
   "metadata": {
    "collapsed": false
   }
  },
  {
   "cell_type": "markdown",
   "source": [
    "About augmented data:"
   ],
   "metadata": {
    "collapsed": false
   }
  },
  {
   "cell_type": "code",
   "execution_count": null,
   "outputs": [],
   "source": [
    "%%time\n",
    "lung_aug_df = pd.read_pickle(\"../pickled_data/lung_augmented_dataset.pkl\")"
   ],
   "metadata": {
    "collapsed": false
   }
  },
  {
   "cell_type": "code",
   "execution_count": null,
   "outputs": [],
   "source": [
    "sns.histplot(lung_aug_df[\"en_p\"]).set(title=\"Energy distribution in augmented data\");"
   ],
   "metadata": {
    "collapsed": false
   }
  },
  {
   "cell_type": "code",
   "execution_count": null,
   "outputs": [],
   "source": [],
   "metadata": {
    "collapsed": false
   }
  }
 ],
 "metadata": {
  "kernelspec": {
   "display_name": "Python 3",
   "language": "python",
   "name": "python3"
  },
  "language_info": {
   "codemirror_mode": {
    "name": "ipython",
    "version": 2
   },
   "file_extension": ".py",
   "mimetype": "text/x-python",
   "name": "python",
   "nbconvert_exporter": "python",
   "pygments_lexer": "ipython2",
   "version": "2.7.6"
  }
 },
 "nbformat": 4,
 "nbformat_minor": 0
}
