{
 "cells": [
  {
   "cell_type": "code",
   "execution_count": null,
   "metadata": {
    "collapsed": true
   },
   "outputs": [],
   "source": [
    "import sklearn\n",
    "import pandas as pd\n",
    "import numpy as np\n",
    "from sklearn.model_selection import train_test_split"
   ]
  },
  {
   "cell_type": "code",
   "execution_count": null,
   "outputs": [],
   "source": [
    "%%time\n",
    "water_dataset = pd.read_pickle(\"../pickled_data/water_dataset.pkl\")\n",
    "water_dataset = water_dataset\n",
    "training_ratio = 0.6\n",
    "training_set, test_set = train_test_split(water_dataset[[\"dist_p\", \"en_p\", \"emission\"]], train_size=training_ratio)"
   ],
   "metadata": {
    "collapsed": false
   }
  },
  {
   "cell_type": "code",
   "execution_count": null,
   "outputs": [],
   "source": [
    "training_set"
   ],
   "metadata": {
    "collapsed": false
   }
  },
  {
   "cell_type": "code",
   "execution_count": null,
   "outputs": [],
   "source": [
    "test_set"
   ],
   "metadata": {
    "collapsed": false
   }
  },
  {
   "cell_type": "code",
   "execution_count": null,
   "outputs": [],
   "source": [
    "def emission_frequency(df, col=\"emission\"):\n",
    "    return len(df[df[col] == 1])/len(df)"
   ],
   "metadata": {
    "collapsed": false
   }
  },
  {
   "cell_type": "code",
   "execution_count": null,
   "outputs": [],
   "source": [
    "print(emission_frequency(training_set))\n",
    "print(emission_frequency(test_set))"
   ],
   "metadata": {
    "collapsed": false
   }
  },
  {
   "cell_type": "code",
   "execution_count": null,
   "outputs": [],
   "source": [
    "from sklearn.linear_model import LogisticRegression\n",
    "from sklearn.preprocessing import PolynomialFeatures\n",
    "\n",
    "def log_reg_features(df):\n",
    "    polyfeat = PolynomialFeatures(degree=3)\n",
    "    return np.concatenate([df[[\"dist_p\", \"en_p\"]], polyfeat.fit_transform(df[[\"dist_p\", \"en_p\"]]), df[[\"en_p\"]].apply(lambda x: np.exp(-x)), df[[\"dist_p\"]].apply(lambda x: np.exp(-x))], axis=1)"
   ],
   "metadata": {
    "collapsed": false
   }
  },
  {
   "cell_type": "code",
   "execution_count": null,
   "outputs": [],
   "source": [
    "%%time\n",
    "clf_logreg = LogisticRegression(class_weight=\"balanced\")\n",
    "clf_logreg.fit(log_reg_features(training_set), training_set[\"emission\"])"
   ],
   "metadata": {
    "collapsed": false
   }
  },
  {
   "cell_type": "code",
   "execution_count": null,
   "outputs": [],
   "source": [
    "test_set[\"log_prediction\"] = clf_logreg.predict(log_reg_features(test_set))\n",
    "test_set[\"random_prediction\"] = np.random.binomial(1, emission_frequency(training_set), len(test_set))"
   ],
   "metadata": {
    "collapsed": false
   }
  },
  {
   "cell_type": "code",
   "execution_count": null,
   "outputs": [],
   "source": [
    "def print_metrics(col):\n",
    "    print(f'F1: {sklearn.metrics.f1_score(test_set[\"emission\"], test_set[col])}')\n",
    "    print(f'Recall: {sklearn.metrics.recall_score(test_set[\"emission\"], test_set[col])}')\n",
    "    print(f'Precision: {sklearn.metrics.precision_score(test_set[\"emission\"], test_set[col])}')"
   ],
   "metadata": {
    "collapsed": false
   }
  },
  {
   "cell_type": "code",
   "execution_count": null,
   "outputs": [],
   "source": [
    "print_metrics(\"log_prediction\")"
   ],
   "metadata": {
    "collapsed": false
   }
  },
  {
   "cell_type": "code",
   "execution_count": null,
   "outputs": [],
   "source": [
    "print_metrics(\"random_prediction\")"
   ],
   "metadata": {
    "collapsed": false
   }
  },
  {
   "cell_type": "code",
   "execution_count": null,
   "outputs": [],
   "source": [
    "emission_frequency(test_set, \"log_prediction\")"
   ],
   "metadata": {
    "collapsed": false
   }
  },
  {
   "cell_type": "code",
   "execution_count": null,
   "outputs": [],
   "source": [
    "emission_frequency(test_set, \"random_prediction\")"
   ],
   "metadata": {
    "collapsed": false
   }
  },
  {
   "cell_type": "code",
   "execution_count": null,
   "outputs": [],
   "source": [
    "import pickle\n",
    "\n",
    "filename = '../model_parameters/water/emission_prediction.sav'\n",
    "with open(filename, 'wb') as f:\n",
    "    pickle.dump(clf_logreg, f)"
   ],
   "metadata": {
    "collapsed": false
   }
  },
  {
   "cell_type": "code",
   "execution_count": null,
   "outputs": [],
   "source": [],
   "metadata": {
    "collapsed": false
   }
  }
 ],
 "metadata": {
  "kernelspec": {
   "display_name": "Python 3",
   "language": "python",
   "name": "python3"
  },
  "language_info": {
   "codemirror_mode": {
    "name": "ipython",
    "version": 2
   },
   "file_extension": ".py",
   "mimetype": "text/x-python",
   "name": "python",
   "nbconvert_exporter": "python",
   "pygments_lexer": "ipython2",
   "version": "2.7.6"
  }
 },
 "nbformat": 4,
 "nbformat_minor": 0
}
